{
 "cells": [
  {
   "cell_type": "markdown",
   "id": "1d902a61",
   "metadata": {},
   "source": [
    "# Sydney Livability Group Assignment"
   ]
  },
  {
   "cell_type": "markdown",
   "id": "4de5905c",
   "metadata": {},
   "source": [
    "## To Do:\n",
    "- Clean tables. Make sure data is valid for when we upload it to the Sydney_Livability schema. \n",
    "- Figure out how to upload the zipped folders of data (non-csv data) into the notebook. \n",
    "- Identify the Primary and Foreign Keys for each table.\n",
    "- Upload the tables into the schema.\n",
    "- Figure out how to share the schema. Something to do with adding other peoples credentials into the credentials.json folder.\n",
    "- Identify other databases we want to use from the website provided.\n",
    "- Identify other stakeholders\n",
    "- Canvas \"Quiz\" on stakeholders and additional data: due Week 11 Friday. "
   ]
  },
  {
   "cell_type": "code",
   "execution_count": null,
   "id": "78de8e30",
   "metadata": {},
   "outputs": [],
   "source": []
  },
  {
   "cell_type": "markdown",
   "id": "71ff4b3b",
   "metadata": {},
   "source": [
    "## Notes\n",
    "Accessing a PostgreSQL database within Python requires psycopg2 and sqlalchemy modules. \n",
    "Also require pandas. \n",
    "You need a crednetials.json file in the same folder to store database credentials. This will also allow us to share notebooks between users without security concerns and allow multiple credentials to be stored without greatly modifying the notebook. \n",
    "This code is from the Week 4 Tutorial"
   ]
  },
  {
   "cell_type": "markdown",
   "id": "ea1867a7",
   "metadata": {},
   "source": [
    "## Connect to the database:"
   ]
  },
  {
   "cell_type": "code",
   "execution_count": 1,
   "id": "02aa083c",
   "metadata": {},
   "outputs": [],
   "source": [
    "import pandas as pd\n",
    "import numpy as np\n",
    "import matplotlib.pyplot as plt\n",
    "\n",
    "import sqlalchemy\n",
    "from sqlalchemy import create_engine\n",
    "from sqlalchemy import MetaData\n",
    "\n",
    "\n",
    "import psycopg2\n",
    "import psycopg2.extras\n",
    "import json\n",
    "import os\n",
    "\n",
    "credentials = \"Credentials.json\"\n",
    "\n",
    "def pgconnect(credential_filepath, db_schema=\"public\"):\n",
    "    with open(credential_filepath) as f:\n",
    "        db_conn_dict = json.load(f)\n",
    "        host       = db_conn_dict['host']\n",
    "        db_user    = db_conn_dict['user']\n",
    "        db_pw      = db_conn_dict['password']\n",
    "        default_db = db_conn_dict['user']\n",
    "        try:\n",
    "            db = create_engine('postgresql+psycopg2://'+db_user+':'+db_pw+'@'+host+'/'+default_db, echo=False)\n",
    "            conn = db.connect()\n",
    "            print('Connected successfully.')\n",
    "        except Exception as e:\n",
    "            print(\"Unable to connect to the database.\")\n",
    "            print(e)\n",
    "            db, conn = None, None\n",
    "        return db,conn"
   ]
  },
  {
   "cell_type": "code",
   "execution_count": 2,
   "id": "1d9fcda6",
   "metadata": {},
   "outputs": [
    {
     "name": "stdout",
     "output_type": "stream",
     "text": [
      "Connected successfully.\n"
     ]
    }
   ],
   "source": [
    "db, conn = pgconnect(credentials)"
   ]
  },
  {
   "cell_type": "markdown",
   "id": "d872f339",
   "metadata": {},
   "source": [
    "## Exploring the Schema on PGAdmin:"
   ]
  },
  {
   "cell_type": "code",
   "execution_count": 6,
   "id": "1c29f211",
   "metadata": {},
   "outputs": [
    {
     "data": {
      "text/plain": [
       "['information_schema', 'nswfuel', 'prices', 'public']"
      ]
     },
     "execution_count": 6,
     "metadata": {},
     "output_type": "execute_result"
    }
   ],
   "source": [
    "from sqlalchemy import inspect\n",
    "inspect(db).get_schema_names()"
   ]
  },
  {
   "cell_type": "markdown",
   "id": "2089233c",
   "metadata": {},
   "source": [
    "Inspect a specific schema:"
   ]
  },
  {
   "cell_type": "code",
   "execution_count": 4,
   "id": "bcf1fdb1",
   "metadata": {},
   "outputs": [
    {
     "ename": "NameError",
     "evalue": "name 'inspect' is not defined",
     "output_type": "error",
     "traceback": [
      "\u001b[0;31m---------------------------------------------------------------------------\u001b[0m",
      "\u001b[0;31mNameError\u001b[0m                                 Traceback (most recent call last)",
      "\u001b[0;32m/var/folders/_y/lf_zrwbn3136_y2yw8d5lrm00000gn/T/ipykernel_44253/3016662975.py\u001b[0m in \u001b[0;36m<module>\u001b[0;34m\u001b[0m\n\u001b[0;32m----> 1\u001b[0;31m \u001b[0minspect\u001b[0m\u001b[0;34m(\u001b[0m\u001b[0mdb\u001b[0m\u001b[0;34m)\u001b[0m\u001b[0;34m.\u001b[0m\u001b[0mget_table_names\u001b[0m\u001b[0;34m(\u001b[0m\u001b[0mschema\u001b[0m\u001b[0;34m=\u001b[0m\u001b[0;34m'nswfuel'\u001b[0m\u001b[0;34m)\u001b[0m\u001b[0;34m\u001b[0m\u001b[0;34m\u001b[0m\u001b[0m\n\u001b[0m\u001b[1;32m      2\u001b[0m \u001b[0minspect\u001b[0m\u001b[0;34m(\u001b[0m\u001b[0mdb\u001b[0m\u001b[0;34m)\u001b[0m\u001b[0;34m.\u001b[0m\u001b[0mget_columns\u001b[0m\u001b[0;34m(\u001b[0m\u001b[0;34m'observations'\u001b[0m\u001b[0;34m,\u001b[0m \u001b[0mschema\u001b[0m\u001b[0;34m=\u001b[0m\u001b[0;34m'nswfuel'\u001b[0m\u001b[0;34m)\u001b[0m\u001b[0;34m\u001b[0m\u001b[0;34m\u001b[0m\u001b[0m\n",
      "\u001b[0;31mNameError\u001b[0m: name 'inspect' is not defined"
     ]
    }
   ],
   "source": [
    "inspect(db).get_table_names(schema='nswfuel')\n",
    "inspect(db).get_columns('observations', schema='nswfuel')"
   ]
  },
  {
   "cell_type": "markdown",
   "id": "568ffa1a",
   "metadata": {},
   "source": [
    "## Create a new schema!"
   ]
  },
  {
   "cell_type": "code",
   "execution_count": 9,
   "id": "13849b4f",
   "metadata": {},
   "outputs": [
    {
     "data": {
      "text/plain": [
       "<sqlalchemy.engine.cursor.LegacyCursorResult at 0x7fb750095820>"
      ]
     },
     "execution_count": 9,
     "metadata": {},
     "output_type": "execute_result"
    }
   ],
   "source": [
    "# DONT RUN AGAIN BECAUSE ITS ALREADY BEEN CREATED\n",
    "# conn.execute(\"CREATE SCHEMA sydney_livability\")"
   ]
  },
  {
   "cell_type": "markdown",
   "id": "2f49067d",
   "metadata": {},
   "source": [
    "This will set all of the queries you execute to look at the sydney_livability schema. Probably won't return anything useful until you have a sydney_livability schema in your PGAdmin Server. First need to figure out how to share a server with others. "
   ]
  },
  {
   "cell_type": "code",
   "execution_count": 10,
   "id": "442412f7",
   "metadata": {},
   "outputs": [
    {
     "data": {
      "text/plain": [
       "<sqlalchemy.engine.cursor.LegacyCursorResult at 0x7fb772c7db50>"
      ]
     },
     "execution_count": 10,
     "metadata": {},
     "output_type": "execute_result"
    }
   ],
   "source": [
    "# conn.execute(\"set search_path to sydney_livability\")"
   ]
  },
  {
   "cell_type": "markdown",
   "id": "218edbdb",
   "metadata": {},
   "source": [
    "Defining helper function: Query"
   ]
  },
  {
   "cell_type": "code",
   "execution_count": null,
   "id": "ffb81722",
   "metadata": {},
   "outputs": [],
   "source": [
    "def query(conn, sqlcmd, args=None, df=True):\n",
    "    result = pd.DataFrame() if df else None\n",
    "    try:\n",
    "        if df:\n",
    "            result = pd.read_sql_query(sqlcmd, conn, params=args)\n",
    "        else:\n",
    "            result = conn.execute(sqlcmd, args).fetchall()\n",
    "            result = result[0] if len(result) == 1 else result\n",
    "    except Exception as e:\n",
    "        print(\"Error encountered: \", e, sep='\\n')\n",
    "    return result"
   ]
  },
  {
   "cell_type": "code",
   "execution_count": null,
   "id": "8c4df961",
   "metadata": {},
   "outputs": [],
   "source": [
    "# To switch off converting everything into a pandas dataframe use df = False like so:\n",
    "# query(conn, \"select count(*) from Fuel\", df=False)"
   ]
  },
  {
   "cell_type": "markdown",
   "id": "79d59e2c",
   "metadata": {},
   "source": [
    "## Exploring tables provided"
   ]
  },
  {
   "cell_type": "code",
   "execution_count": 3,
   "id": "835a1aa4",
   "metadata": {},
   "outputs": [
    {
     "data": {
      "text/html": [
       "<div>\n",
       "<style scoped>\n",
       "    .dataframe tbody tr th:only-of-type {\n",
       "        vertical-align: middle;\n",
       "    }\n",
       "\n",
       "    .dataframe tbody tr th {\n",
       "        vertical-align: top;\n",
       "    }\n",
       "\n",
       "    .dataframe thead th {\n",
       "        text-align: right;\n",
       "    }\n",
       "</style>\n",
       "<table border=\"1\" class=\"dataframe\">\n",
       "  <thead>\n",
       "    <tr style=\"text-align: right;\">\n",
       "      <th></th>\n",
       "      <th>Unnamed: 0</th>\n",
       "      <th>area_id</th>\n",
       "      <th>area_name</th>\n",
       "      <th>land_area</th>\n",
       "      <th>population</th>\n",
       "      <th>number_of_dwellings</th>\n",
       "      <th>number_of_businesses</th>\n",
       "      <th>median_annual_household_income</th>\n",
       "      <th>avg_monthly_rent</th>\n",
       "      <th>0-4</th>\n",
       "      <th>5-9</th>\n",
       "      <th>10-14</th>\n",
       "      <th>15-19</th>\n",
       "    </tr>\n",
       "  </thead>\n",
       "  <tbody>\n",
       "    <tr>\n",
       "      <th>0</th>\n",
       "      <td>0</td>\n",
       "      <td>102011028</td>\n",
       "      <td>Avoca Beach - Copacabana</td>\n",
       "      <td>643.8</td>\n",
       "      <td>7590</td>\n",
       "      <td>2325</td>\n",
       "      <td>738.0</td>\n",
       "      <td>46996.0</td>\n",
       "      <td>1906.0</td>\n",
       "      <td>467</td>\n",
       "      <td>583</td>\n",
       "      <td>604</td>\n",
       "      <td>560</td>\n",
       "    </tr>\n",
       "    <tr>\n",
       "      <th>1</th>\n",
       "      <td>1</td>\n",
       "      <td>102011029</td>\n",
       "      <td>Box Head - MacMasters Beach</td>\n",
       "      <td>3208.6</td>\n",
       "      <td>10986</td>\n",
       "      <td>3847</td>\n",
       "      <td>907.0</td>\n",
       "      <td>42621.0</td>\n",
       "      <td>1682.0</td>\n",
       "      <td>586</td>\n",
       "      <td>696</td>\n",
       "      <td>661</td>\n",
       "      <td>692</td>\n",
       "    </tr>\n",
       "    <tr>\n",
       "      <th>2</th>\n",
       "      <td>2</td>\n",
       "      <td>102011030</td>\n",
       "      <td>Calga - Kulnura</td>\n",
       "      <td>76795.1</td>\n",
       "      <td>4841</td>\n",
       "      <td>1575</td>\n",
       "      <td>1102.0</td>\n",
       "      <td>42105.0</td>\n",
       "      <td>1182.0</td>\n",
       "      <td>220</td>\n",
       "      <td>254</td>\n",
       "      <td>304</td>\n",
       "      <td>320</td>\n",
       "    </tr>\n",
       "    <tr>\n",
       "      <th>3</th>\n",
       "      <td>3</td>\n",
       "      <td>102011031</td>\n",
       "      <td>Erina - Green Point</td>\n",
       "      <td>3379.3</td>\n",
       "      <td>14237</td>\n",
       "      <td>4450</td>\n",
       "      <td>1666.0</td>\n",
       "      <td>43481.0</td>\n",
       "      <td>1595.0</td>\n",
       "      <td>695</td>\n",
       "      <td>778</td>\n",
       "      <td>916</td>\n",
       "      <td>838</td>\n",
       "    </tr>\n",
       "    <tr>\n",
       "      <th>4</th>\n",
       "      <td>4</td>\n",
       "      <td>102011032</td>\n",
       "      <td>Gosford - Springfield</td>\n",
       "      <td>1691.2</td>\n",
       "      <td>19385</td>\n",
       "      <td>6373</td>\n",
       "      <td>2126.0</td>\n",
       "      <td>45972.0</td>\n",
       "      <td>1382.0</td>\n",
       "      <td>1200</td>\n",
       "      <td>1079</td>\n",
       "      <td>963</td>\n",
       "      <td>977</td>\n",
       "    </tr>\n",
       "  </tbody>\n",
       "</table>\n",
       "</div>"
      ],
      "text/plain": [
       "   Unnamed: 0    area_id                    area_name  land_area population  \\\n",
       "0           0  102011028     Avoca Beach - Copacabana      643.8       7590   \n",
       "1           1  102011029  Box Head - MacMasters Beach     3208.6      10986   \n",
       "2           2  102011030              Calga - Kulnura    76795.1       4841   \n",
       "3           3  102011031          Erina - Green Point     3379.3      14237   \n",
       "4           4  102011032        Gosford - Springfield     1691.2      19385   \n",
       "\n",
       "  number_of_dwellings  number_of_businesses  median_annual_household_income  \\\n",
       "0                2325                 738.0                         46996.0   \n",
       "1                3847                 907.0                         42621.0   \n",
       "2                1575                1102.0                         42105.0   \n",
       "3                4450                1666.0                         43481.0   \n",
       "4                6373                2126.0                         45972.0   \n",
       "\n",
       "   avg_monthly_rent   0-4   5-9  10-14  15-19  \n",
       "0            1906.0   467   583    604    560  \n",
       "1            1682.0   586   696    661    692  \n",
       "2            1182.0   220   254    304    320  \n",
       "3            1595.0   695   778    916    838  \n",
       "4            1382.0  1200  1079    963    977  "
      ]
     },
     "execution_count": 3,
     "metadata": {},
     "output_type": "execute_result"
    }
   ],
   "source": [
    "nhdata = pd.read_csv('Neighbourhoods.csv')\n",
    "nhdata.head()"
   ]
  },
  {
   "cell_type": "code",
   "execution_count": null,
   "id": "9af4caa2",
   "metadata": {},
   "outputs": [],
   "source": []
  },
  {
   "cell_type": "markdown",
   "id": "9885037a",
   "metadata": {},
   "source": [
    "## Clean data provided"
   ]
  },
  {
   "cell_type": "code",
   "execution_count": null,
   "id": "7bc235bf",
   "metadata": {},
   "outputs": [],
   "source": []
  },
  {
   "cell_type": "markdown",
   "id": "f5fa0d15",
   "metadata": {},
   "source": [
    "## Load data into new database:"
   ]
  },
  {
   "cell_type": "code",
   "execution_count": null,
   "id": "b5a4404a",
   "metadata": {},
   "outputs": [],
   "source": [
    "# DO NOT RUN YET. NEED TO CLEAN DATA FIRST\n",
    "# Create the Neighbourhoods table:\n",
    "# conn.execute(\"\"\"\n",
    "# CREATE TABLE Neighbourhoods(\n",
    "#     area_id INTEGER PRIMARY KEY,\n",
    "#     area_name VARCHAR(50),\n",
    "#     land_area FLOAT8,\n",
    "#     population INTEGER,\n",
    "#     number_of_dwellings INTEGER,\n",
    "#     number_of_businesses FLOAT8,\n",
    "#     median_annual_household_income FLOAT8,\n",
    "#     avg_monthly_rent FLOAT8,\n",
    "#     child0_4 INTEGER,\n",
    "#     child5_9 INTEGER,\n",
    "#     child10_14 INTEGER,\n",
    "#     child15_19 INTEGER\n",
    "    \n",
    "#     )\"\"\")"
   ]
  },
  {
   "cell_type": "code",
   "execution_count": 5,
   "id": "af78cab9",
   "metadata": {},
   "outputs": [
    {
     "ename": "NameError",
     "evalue": "name 'query' is not defined",
     "output_type": "error",
     "traceback": [
      "\u001b[0;31m---------------------------------------------------------------------------\u001b[0m",
      "\u001b[0;31mNameError\u001b[0m                                 Traceback (most recent call last)",
      "\u001b[0;32m/var/folders/_y/lf_zrwbn3136_y2yw8d5lrm00000gn/T/ipykernel_42361/3315955945.py\u001b[0m in \u001b[0;36m<module>\u001b[0;34m\u001b[0m\n\u001b[1;32m      1\u001b[0m \u001b[0mnhdata\u001b[0m\u001b[0;34m.\u001b[0m\u001b[0mto_sql\u001b[0m\u001b[0;34m(\u001b[0m\u001b[0;34m\"neighbourhoods\"\u001b[0m\u001b[0;34m,\u001b[0m \u001b[0mcon\u001b[0m\u001b[0;34m=\u001b[0m\u001b[0mconn\u001b[0m\u001b[0;34m,\u001b[0m \u001b[0mif_exists\u001b[0m\u001b[0;34m=\u001b[0m\u001b[0;34m'append'\u001b[0m\u001b[0;34m,\u001b[0m \u001b[0mindex\u001b[0m\u001b[0;34m=\u001b[0m\u001b[0;32mFalse\u001b[0m\u001b[0;34m)\u001b[0m\u001b[0;34m\u001b[0m\u001b[0;34m\u001b[0m\u001b[0m\n\u001b[0;32m----> 2\u001b[0;31m \u001b[0mquery\u001b[0m\u001b[0;34m(\u001b[0m\u001b[0mconn\u001b[0m\u001b[0;34m,\u001b[0m \u001b[0;34m\"select * from neighbourhoods\"\u001b[0m\u001b[0;34m)\u001b[0m\u001b[0;34m\u001b[0m\u001b[0;34m\u001b[0m\u001b[0m\n\u001b[0m",
      "\u001b[0;31mNameError\u001b[0m: name 'query' is not defined"
     ]
    }
   ],
   "source": [
    "# DO NOT RUN YET. FIRST MUST CLEAN THE DATA SO IT WILL UPLOAD CORRECTLY. \n",
    "# nhdata.to_sql(\"neighbourhoods\", con=conn, if_exists='append', index=False)\n",
    "# query(conn, \"select * from neighbourhoods\")"
   ]
  }
 ],
 "metadata": {
  "kernelspec": {
   "display_name": "Python 3 (ipykernel)",
   "language": "python",
   "name": "python3"
  },
  "language_info": {
   "codemirror_mode": {
    "name": "ipython",
    "version": 3
   },
   "file_extension": ".py",
   "mimetype": "text/x-python",
   "name": "python",
   "nbconvert_exporter": "python",
   "pygments_lexer": "ipython3",
   "version": "3.9.7"
  }
 },
 "nbformat": 4,
 "nbformat_minor": 5
}
